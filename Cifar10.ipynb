{
  "nbformat": 4,
  "nbformat_minor": 0,
  "metadata": {
    "colab": {
      "name": "Cifar10.ipynb",
      "provenance": [],
      "collapsed_sections": [],
      "authorship_tag": "ABX9TyOqRgUxYeQXaEOz0ivd8Ke6",
      "include_colab_link": true
    },
    "kernelspec": {
      "name": "python3",
      "display_name": "Python 3"
    },
    "accelerator": "GPU"
  },
  "cells": [
    {
      "cell_type": "markdown",
      "metadata": {
        "id": "view-in-github",
        "colab_type": "text"
      },
      "source": [
        "<a href=\"https://colab.research.google.com/github/achillesposiedon/Cifar-10/blob/master/Cifar10.ipynb\" target=\"_parent\"><img src=\"https://colab.research.google.com/assets/colab-badge.svg\" alt=\"Open In Colab\"/></a>"
      ]
    },
    {
      "cell_type": "code",
      "metadata": {
        "id": "Fw9jObxF9q2A",
        "colab_type": "code",
        "colab": {}
      },
      "source": [
        "import pandas as pd\n",
        "import numpy as np\n",
        "import matplotlib.pyplot as plt\n",
        "%matplotlib inline\n",
        "\n",
        "import keras\n",
        "from keras.models import Sequential\n",
        "from keras.layers import Dense, Dropout, Flatten, Conv2D, MaxPooling2D\n",
        "from keras.layers.normalization import BatchNormalization"
      ],
      "execution_count": 0,
      "outputs": []
    },
    {
      "cell_type": "code",
      "metadata": {
        "id": "qtaFZMnk-mNL",
        "colab_type": "code",
        "colab": {}
      },
      "source": [
        "from keras.datasets import cifar10\n",
        "\n",
        "(xtrain, ytrain), (xtest, ytest) = cifar10.load_data()"
      ],
      "execution_count": 0,
      "outputs": []
    },
    {
      "cell_type": "code",
      "metadata": {
        "id": "TGlTxUpiAeiU",
        "colab_type": "code",
        "colab": {
          "base_uri": "https://localhost:8080/",
          "height": 87
        },
        "outputId": "343b6276-5a5b-4a2d-a16c-23285be13e65"
      },
      "source": [
        "print(xtrain.shape)\n",
        "print(ytrain.shape)\n",
        "print(xtest.shape)\n",
        "print(ytest.shape)"
      ],
      "execution_count": 3,
      "outputs": [
        {
          "output_type": "stream",
          "text": [
            "(50000, 32, 32, 3)\n",
            "(50000, 1)\n",
            "(10000, 32, 32, 3)\n",
            "(10000, 1)\n"
          ],
          "name": "stdout"
        }
      ]
    },
    {
      "cell_type": "code",
      "metadata": {
        "id": "Qws2fQ41Artx",
        "colab_type": "code",
        "colab": {
          "base_uri": "https://localhost:8080/",
          "height": 284
        },
        "outputId": "5e703fb7-06b1-4108-b879-5607ce3b20e0"
      },
      "source": [
        "img = plt.imshow(xtrain[10]),\n",
        "print(ytrain[10])"
      ],
      "execution_count": 4,
      "outputs": [
        {
          "output_type": "stream",
          "text": [
            "[4]\n"
          ],
          "name": "stdout"
        },
        {
          "output_type": "display_data",
          "data": {
            "image/png": "[encoded data removed]",
            "text/plain": [
              "<Figure size 432x288 with 1 Axes>"
            ]
          },
          "metadata": {
            "tags": [],
            "needs_background": "light"
          }
        }
      ]
    },
    {
      "cell_type": "code",
      "metadata": {
        "id": "QLAsUVwcA4_9",
        "colab_type": "code",
        "colab": {}
      },
      "source": [
        "ytrain = keras.utils.to_categorical(ytrain, 10)\n",
        "ytest = keras.utils.to_categorical(ytest, 10)"
      ],
      "execution_count": 0,
      "outputs": []
    },
    {
      "cell_type": "code",
      "metadata": {
        "id": "KkO3GBn-BWZk",
        "colab_type": "code",
        "colab": {}
      },
      "source": [
        "xtrain=xtrain/255\n",
        "xtest=xtest/255"
      ],
      "execution_count": 0,
      "outputs": []
    },
    {
      "cell_type": "code",
      "metadata": {
        "id": "cwC8ZQuxBi7H",
        "colab_type": "code",
        "colab": {
          "base_uri": "https://localhost:8080/",
          "height": 580
        },
        "outputId": "c45d3482-522c-4f71-c23c-d90ed62316a9"
      },
      "source": [
        "model = Sequential()\n",
        "model.add(Conv2D(32, (3, 3), activation='relu', padding='same', input_shape=(32,32,3)))\n",
        "model.add(Conv2D(32, (3, 3), activation='relu', padding='same'))\n",
        "model.add(MaxPooling2D(pool_size=(2, 2)))\n",
        "model.add(Dropout(0.25))\n",
        "model.add(Conv2D(64, (3, 3), activation='relu', padding='same'))\n",
        "model.add(Conv2D(64, (3, 3), activation='relu', padding='same'))\n",
        "model.add(MaxPooling2D(pool_size=(2, 2)))\n",
        "model.add(Dropout(0.25))\n",
        "model.add(Flatten())\n",
        "model.add(Dense(512, activation='relu'))\n",
        "model.add(Dropout(0.5))\n",
        "\n",
        "model.add(Dense(10, activation='softmax'))\n",
        "\n",
        "model.summary()"
      ],
      "execution_count": 17,
      "outputs": [
        {
          "output_type": "stream",
          "text": [
            "Model: \"sequential_3\"\n",
            "_________________________________________________________________\n",
            "Layer (type)                 Output Shape              Param #   \n",
            "=================================================================\n",
            "conv2d_6 (Conv2D)            (None, 32, 32, 32)        896       \n",
            "_________________________________________________________________\n",
            "conv2d_7 (Conv2D)            (None, 32, 32, 32)        9248      \n",
            "_________________________________________________________________\n",
            "max_pooling2d_3 (MaxPooling2 (None, 16, 16, 32)        0         \n",
            "_________________________________________________________________\n",
            "dropout_4 (Dropout)          (None, 16, 16, 32)        0         \n",
            "_________________________________________________________________\n",
            "conv2d_8 (Conv2D)            (None, 16, 16, 64)        18496     \n",
            "_________________________________________________________________\n",
            "conv2d_9 (Conv2D)            (None, 16, 16, 64)        36928     \n",
            "_________________________________________________________________\n",
            "max_pooling2d_4 (MaxPooling2 (None, 8, 8, 64)          0         \n",
            "_________________________________________________________________\n",
            "dropout_5 (Dropout)          (None, 8, 8, 64)          0         \n",
            "_________________________________________________________________\n",
            "flatten_2 (Flatten)          (None, 4096)              0         \n",
            "_________________________________________________________________\n",
            "dense_3 (Dense)              (None, 512)               2097664   \n",
            "_________________________________________________________________\n",
            "dropout_6 (Dropout)          (None, 512)               0         \n",
            "_________________________________________________________________\n",
            "dense_4 (Dense)              (None, 10)                5130      \n",
            "=================================================================\n",
            "Total params: 2,168,362\n",
            "Trainable params: 2,168,362\n",
            "Non-trainable params: 0\n",
            "_________________________________________________________________\n"
          ],
          "name": "stdout"
        }
      ]
    },
    {
      "cell_type": "code",
      "metadata": {
        "id": "mYT5kcmfCawH",
        "colab_type": "code",
        "colab": {}
      },
      "source": [
        "model.compile(loss='categorical_crossentropy',optimizer='adam',metrics=['accuracy'])"
      ],
      "execution_count": 0,
      "outputs": []
    },
    {
      "cell_type": "code",
      "metadata": {
        "id": "3oq0KTCmChX1",
        "colab_type": "code",
        "colab": {
          "base_uri": "https://localhost:8080/",
          "height": 758
        },
        "outputId": "b3e532fd-0b60-4b20-98ad-a6704661d1bc"
      },
      "source": [
        "hist = model.fit(xtrain, ytrain, \n",
        "           batch_size=32, epochs=20, \n",
        "           validation_split=0.2)"
      ],
      "execution_count": 19,
      "outputs": [
        {
          "output_type": "stream",
          "text": [
            "Train on 40000 samples, validate on 10000 samples\n",
            "Epoch 1/20\n",
            "40000/40000 [==============================] - 9s 220us/step - loss: 1.5795 - accuracy: 0.4204 - val_loss: 1.2005 - val_accuracy: 0.5677\n",
            "Epoch 2/20\n",
            "40000/40000 [==============================] - 9s 214us/step - loss: 1.1594 - accuracy: 0.5865 - val_loss: 0.9568 - val_accuracy: 0.6631\n",
            "Epoch 3/20\n",
            "40000/40000 [==============================] - 9s 214us/step - loss: 0.9793 - accuracy: 0.6539 - val_loss: 0.8657 - val_accuracy: 0.6977\n",
            "Epoch 4/20\n",
            "40000/40000 [==============================] - 9s 213us/step - loss: 0.8711 - accuracy: 0.6914 - val_loss: 0.8312 - val_accuracy: 0.7114\n",
            "Epoch 5/20\n",
            "40000/40000 [==============================] - 9s 221us/step - loss: 0.8007 - accuracy: 0.7163 - val_loss: 0.7453 - val_accuracy: 0.7457\n",
            "Epoch 6/20\n",
            "40000/40000 [==============================] - 9s 221us/step - loss: 0.7325 - accuracy: 0.7428 - val_loss: 0.7279 - val_accuracy: 0.7495\n",
            "Epoch 7/20\n",
            "40000/40000 [==============================] - 9s 219us/step - loss: 0.6885 - accuracy: 0.7603 - val_loss: 0.6891 - val_accuracy: 0.7647\n",
            "Epoch 8/20\n",
            "40000/40000 [==============================] - 9s 220us/step - loss: 0.6412 - accuracy: 0.7746 - val_loss: 0.7202 - val_accuracy: 0.7518\n",
            "Epoch 9/20\n",
            "40000/40000 [==============================] - 9s 221us/step - loss: 0.6102 - accuracy: 0.7863 - val_loss: 0.6961 - val_accuracy: 0.7614\n",
            "Epoch 10/20\n",
            "40000/40000 [==============================] - 9s 220us/step - loss: 0.5745 - accuracy: 0.7988 - val_loss: 0.7376 - val_accuracy: 0.7566\n",
            "Epoch 11/20\n",
            "40000/40000 [==============================] - 9s 221us/step - loss: 0.5506 - accuracy: 0.8058 - val_loss: 0.6680 - val_accuracy: 0.7730\n",
            "Epoch 12/20\n",
            "40000/40000 [==============================] - 9s 218us/step - loss: 0.5198 - accuracy: 0.8197 - val_loss: 0.6890 - val_accuracy: 0.7744\n",
            "Epoch 13/20\n",
            "40000/40000 [==============================] - 9s 215us/step - loss: 0.4908 - accuracy: 0.8246 - val_loss: 0.7124 - val_accuracy: 0.7701\n",
            "Epoch 14/20\n",
            "40000/40000 [==============================] - 9s 214us/step - loss: 0.4732 - accuracy: 0.8340 - val_loss: 0.6958 - val_accuracy: 0.7734\n",
            "Epoch 15/20\n",
            "40000/40000 [==============================] - 9s 216us/step - loss: 0.4648 - accuracy: 0.8351 - val_loss: 0.7072 - val_accuracy: 0.7750\n",
            "Epoch 16/20\n",
            "40000/40000 [==============================] - 9s 217us/step - loss: 0.4440 - accuracy: 0.8432 - val_loss: 0.7021 - val_accuracy: 0.7793\n",
            "Epoch 17/20\n",
            "40000/40000 [==============================] - 9s 216us/step - loss: 0.4269 - accuracy: 0.8494 - val_loss: 0.7127 - val_accuracy: 0.7762\n",
            "Epoch 18/20\n",
            "40000/40000 [==============================] - 9s 215us/step - loss: 0.4234 - accuracy: 0.8516 - val_loss: 0.7168 - val_accuracy: 0.7799\n",
            "Epoch 19/20\n",
            "40000/40000 [==============================] - 9s 216us/step - loss: 0.3958 - accuracy: 0.8622 - val_loss: 0.7122 - val_accuracy: 0.7771\n",
            "Epoch 20/20\n",
            "40000/40000 [==============================] - 9s 217us/step - loss: 0.3952 - accuracy: 0.8615 - val_loss: 0.7233 - val_accuracy: 0.7789\n"
          ],
          "name": "stdout"
        }
      ]
    },
    {
      "cell_type": "code",
      "metadata": {
        "id": "H7BFoqo6CnkZ",
        "colab_type": "code",
        "colab": {
          "base_uri": "https://localhost:8080/",
          "height": 295
        },
        "outputId": "eeaab830-79df-4813-a8dc-faf693f14740"
      },
      "source": [
        "plt.plot(hist.history['loss'])\n",
        "plt.plot(hist.history['val_loss'])\n",
        "plt.title('Model loss')\n",
        "plt.ylabel('Loss')\n",
        "plt.xlabel('Epoch')\n",
        "plt.legend(['Train', 'Val'], loc='upper right')\n",
        "plt.show()"
      ],
      "execution_count": 20,
      "outputs": [
        {
          "output_type": "display_data",
          "data": {
            "image/png": "[encoded data removed]",
            "text/plain": [
              "<Figure size 432x288 with 1 Axes>"
            ]
          },
          "metadata": {
            "tags": [],
            "needs_background": "light"
          }
        }
      ]
    },
    {
      "cell_type": "code",
      "metadata": {
        "id": "iRR37KgyCq7t",
        "colab_type": "code",
        "colab": {}
      },
      "source": [
        "pred=model.predict(xtest)\n",
        "pred=pd.DataFrame(pred)\n",
        "pred.to_csv('pred.csv')"
      ],
      "execution_count": 0,
      "outputs": []
    },
    {
      "cell_type": "code",
      "metadata": {
        "id": "Kh9whXyVMRvR",
        "colab_type": "code",
        "colab": {}
      },
      "source": [
        "model.save('cifar10model.h5')"
      ],
      "execution_count": 0,
      "outputs": []
    },
    {
      "cell_type": "code",
      "metadata": {
        "id": "3aFvjmJuMZpF",
        "colab_type": "code",
        "colab": {
          "base_uri": "https://localhost:8080/",
          "height": 52
        },
        "outputId": "c5c5f14a-6548-418a-b803-667f2f6cfb5f"
      },
      "source": [
        "model.evaluate(xtest,ytest)[1]"
      ],
      "execution_count": 23,
      "outputs": [
        {
          "output_type": "stream",
          "text": [
            "10000/10000 [==============================] - 1s 92us/step\n"
          ],
          "name": "stdout"
        },
        {
          "output_type": "execute_result",
          "data": {
            "text/plain": [
              "0.7667999863624573"
            ]
          },
          "metadata": {
            "tags": []
          },
          "execution_count": 23
        }
      ]
    },
    {
      "cell_type": "code",
      "metadata": {
        "id": "hAPFoRakOPdx",
        "colab_type": "code",
        "colab": {
          "base_uri": "https://localhost:8080/",
          "height": 879
        },
        "outputId": "aa410afe-eadb-4a67-d01a-5c0e260fd009"
      },
      "source": [
        "xtrain[0]"
      ],
      "execution_count": 25,
      "outputs": [
        {
          "output_type": "execute_result",
          "data": {
            "text/plain": [
              "array([[[0.23137255, 0.24313725, 0.24705882],\n",
              "        [0.16862745, 0.18039216, 0.17647059],\n",
              "        [0.19607843, 0.18823529, 0.16862745],\n",
              "        ...,\n",
              "        [0.61960784, 0.51764706, 0.42352941],\n",
              "        [0.59607843, 0.49019608, 0.4       ],\n",
              "        [0.58039216, 0.48627451, 0.40392157]],\n",
              "\n",
              "       [[0.0627451 , 0.07843137, 0.07843137],\n",
              "        [0.        , 0.        , 0.        ],\n",
              "        [0.07058824, 0.03137255, 0.        ],\n",
              "        ...,\n",
              "        [0.48235294, 0.34509804, 0.21568627],\n",
              "        [0.46666667, 0.3254902 , 0.19607843],\n",
              "        [0.47843137, 0.34117647, 0.22352941]],\n",
              "\n",
              "       [[0.09803922, 0.09411765, 0.08235294],\n",
              "        [0.0627451 , 0.02745098, 0.        ],\n",
              "        [0.19215686, 0.10588235, 0.03137255],\n",
              "        ...,\n",
              "        [0.4627451 , 0.32941176, 0.19607843],\n",
              "        [0.47058824, 0.32941176, 0.19607843],\n",
              "        [0.42745098, 0.28627451, 0.16470588]],\n",
              "\n",
              "       ...,\n",
              "\n",
              "       [[0.81568627, 0.66666667, 0.37647059],\n",
              "        [0.78823529, 0.6       , 0.13333333],\n",
              "        [0.77647059, 0.63137255, 0.10196078],\n",
              "        ...,\n",
              "        [0.62745098, 0.52156863, 0.2745098 ],\n",
              "        [0.21960784, 0.12156863, 0.02745098],\n",
              "        [0.20784314, 0.13333333, 0.07843137]],\n",
              "\n",
              "       [[0.70588235, 0.54509804, 0.37647059],\n",
              "        [0.67843137, 0.48235294, 0.16470588],\n",
              "        [0.72941176, 0.56470588, 0.11764706],\n",
              "        ...,\n",
              "        [0.72156863, 0.58039216, 0.36862745],\n",
              "        [0.38039216, 0.24313725, 0.13333333],\n",
              "        [0.3254902 , 0.20784314, 0.13333333]],\n",
              "\n",
              "       [[0.69411765, 0.56470588, 0.45490196],\n",
              "        [0.65882353, 0.50588235, 0.36862745],\n",
              "        [0.70196078, 0.55686275, 0.34117647],\n",
              "        ...,\n",
              "        [0.84705882, 0.72156863, 0.54901961],\n",
              "        [0.59215686, 0.4627451 , 0.32941176],\n",
              "        [0.48235294, 0.36078431, 0.28235294]]])"
            ]
          },
          "metadata": {
            "tags": []
          },
          "execution_count": 25
        }
      ]
    },
    {
      "cell_type": "code",
      "metadata": {
        "id": "1Ee88T1DPA3h",
        "colab_type": "code",
        "colab": {
          "base_uri": "https://localhost:8080/",
          "height": 1000
        },
        "outputId": "b49e0de2-188d-4b3d-e8e1-d580fadcc823"
      },
      "source": [
        "\n",
        "model = Sequential()\n",
        "\n",
        "model.add(Conv2D(32,  kernel_size = 3,kernel_initializer='he_normal', activation='relu', input_shape = (32, 32, 3)))\n",
        "model.add(BatchNormalization())\n",
        "model.add(Dropout(0.2))\n",
        "model.add(Conv2D(64, kernel_size = 3, kernel_initializer='he_normal', strides=1, activation='relu'))\n",
        "model.add(BatchNormalization())\n",
        "model.add(MaxPooling2D((2, 2)))\n",
        "model.add(Conv2D(128, kernel_size = 3, strides=1, kernel_initializer='he_normal' ,padding='same', activation='relu'))\n",
        "model.add(BatchNormalization())\n",
        "model.add(MaxPooling2D((2, 2)))\n",
        "model.add(Conv2D(64, kernel_size = 3,kernel_initializer='he_normal', activation='relu'))\n",
        "model.add(BatchNormalization())\n",
        "model.add(MaxPooling2D((2, 2)))\n",
        "model.add(Dropout(0.2))\n",
        "\n",
        "\n",
        "model.add(Flatten())\n",
        "model.add(Dense(512,kernel_initializer='he_normal', activation = \"relu\"))\n",
        "model.add(Dropout(0.2))\n",
        "model.add(Dense(10, kernel_initializer='glorot_uniform', activation = \"softmax\"))\n",
        "\n",
        "\n",
        "# Compile the model\n",
        "model.compile(loss=\"categorical_crossentropy\", optimizer=\"Nadam\", metrics=[\"accuracy\"])\n",
        "\n",
        "# Summary of model\n",
        "model.summary()\n",
        "\n",
        "model.compile(loss='categorical_crossentropy',optimizer='adam',metrics=['accuracy'])\n",
        "hist = model.fit(xtrain, ytrain,batch_size=32, epochs=20,validation_split=0.2)\n"
      ],
      "execution_count": 24,
      "outputs": [
        {
          "output_type": "stream",
          "text": [
            "Model: \"sequential_4\"\n",
            "_________________________________________________________________\n",
            "Layer (type)                 Output Shape              Param #   \n",
            "=================================================================\n",
            "conv2d_10 (Conv2D)           (None, 30, 30, 32)        896       \n",
            "_________________________________________________________________\n",
            "batch_normalization_1 (Batch (None, 30, 30, 32)        128       \n",
            "_________________________________________________________________\n",
            "dropout_7 (Dropout)          (None, 30, 30, 32)        0         \n",
            "_________________________________________________________________\n",
            "conv2d_11 (Conv2D)           (None, 28, 28, 64)        18496     \n",
            "_________________________________________________________________\n",
            "batch_normalization_2 (Batch (None, 28, 28, 64)        256       \n",
            "_________________________________________________________________\n",
            "max_pooling2d_5 (MaxPooling2 (None, 14, 14, 64)        0         \n",
            "_________________________________________________________________\n",
            "conv2d_12 (Conv2D)           (None, 14, 14, 128)       73856     \n",
            "_________________________________________________________________\n",
            "batch_normalization_3 (Batch (None, 14, 14, 128)       512       \n",
            "_________________________________________________________________\n",
            "max_pooling2d_6 (MaxPooling2 (None, 7, 7, 128)         0         \n",
            "_________________________________________________________________\n",
            "conv2d_13 (Conv2D)           (None, 5, 5, 64)          73792     \n",
            "_________________________________________________________________\n",
            "batch_normalization_4 (Batch (None, 5, 5, 64)          256       \n",
            "_________________________________________________________________\n",
            "max_pooling2d_7 (MaxPooling2 (None, 2, 2, 64)          0         \n",
            "_________________________________________________________________\n",
            "dropout_8 (Dropout)          (None, 2, 2, 64)          0         \n",
            "_________________________________________________________________\n",
            "flatten_3 (Flatten)          (None, 256)               0         \n",
            "_________________________________________________________________\n",
            "dense_5 (Dense)              (None, 512)               131584    \n",
            "_________________________________________________________________\n",
            "dropout_9 (Dropout)          (None, 512)               0         \n",
            "_________________________________________________________________\n",
            "dense_6 (Dense)              (None, 10)                5130      \n",
            "=================================================================\n",
            "Total params: 304,906\n",
            "Trainable params: 304,330\n",
            "Non-trainable params: 576\n",
            "_________________________________________________________________\n",
            "Train on 40000 samples, validate on 10000 samples\n",
            "Epoch 1/20\n",
            "40000/40000 [==============================] - 15s 382us/step - loss: 1.5602 - accuracy: 0.4572 - val_loss: 1.1859 - val_accuracy: 0.5819\n",
            "Epoch 2/20\n",
            "40000/40000 [==============================] - 14s 360us/step - loss: 1.0946 - accuracy: 0.6114 - val_loss: 0.9636 - val_accuracy: 0.6520\n",
            "Epoch 3/20\n",
            "40000/40000 [==============================] - 15s 366us/step - loss: 0.9293 - accuracy: 0.6720 - val_loss: 0.9891 - val_accuracy: 0.6663\n",
            "Epoch 4/20\n",
            "40000/40000 [==============================] - 15s 368us/step - loss: 0.8210 - accuracy: 0.7110 - val_loss: 0.8237 - val_accuracy: 0.7104\n",
            "Epoch 5/20\n",
            "40000/40000 [==============================] - 14s 358us/step - loss: 0.7343 - accuracy: 0.7429 - val_loss: 0.7362 - val_accuracy: 0.7428\n",
            "Epoch 6/20\n",
            "40000/40000 [==============================] - 14s 361us/step - loss: 0.6641 - accuracy: 0.7699 - val_loss: 0.7326 - val_accuracy: 0.7497\n",
            "Epoch 7/20\n",
            "40000/40000 [==============================] - 15s 364us/step - loss: 0.6053 - accuracy: 0.7901 - val_loss: 0.6866 - val_accuracy: 0.7597\n",
            "Epoch 8/20\n",
            "40000/40000 [==============================] - 15s 363us/step - loss: 0.5632 - accuracy: 0.8016 - val_loss: 0.8483 - val_accuracy: 0.7263\n",
            "Epoch 9/20\n",
            "40000/40000 [==============================] - 14s 358us/step - loss: 0.5166 - accuracy: 0.8209 - val_loss: 0.7348 - val_accuracy: 0.7547\n",
            "Epoch 10/20\n",
            "40000/40000 [==============================] - 14s 356us/step - loss: 0.4795 - accuracy: 0.8318 - val_loss: 0.6655 - val_accuracy: 0.7773\n",
            "Epoch 11/20\n",
            "40000/40000 [==============================] - 14s 358us/step - loss: 0.4439 - accuracy: 0.8438 - val_loss: 0.6416 - val_accuracy: 0.7847\n",
            "Epoch 12/20\n",
            "40000/40000 [==============================] - 14s 359us/step - loss: 0.4165 - accuracy: 0.8535 - val_loss: 0.7097 - val_accuracy: 0.7780\n",
            "Epoch 13/20\n",
            "40000/40000 [==============================] - 14s 358us/step - loss: 0.3897 - accuracy: 0.8643 - val_loss: 0.6798 - val_accuracy: 0.7821\n",
            "Epoch 14/20\n",
            "40000/40000 [==============================] - 14s 359us/step - loss: 0.3702 - accuracy: 0.8684 - val_loss: 0.6738 - val_accuracy: 0.7896\n",
            "Epoch 15/20\n",
            "40000/40000 [==============================] - 14s 359us/step - loss: 0.3454 - accuracy: 0.8787 - val_loss: 0.6681 - val_accuracy: 0.7957\n",
            "Epoch 16/20\n",
            "40000/40000 [==============================] - 14s 355us/step - loss: 0.3318 - accuracy: 0.8852 - val_loss: 0.6891 - val_accuracy: 0.7916\n",
            "Epoch 17/20\n",
            "40000/40000 [==============================] - 14s 357us/step - loss: 0.3144 - accuracy: 0.8898 - val_loss: 0.6948 - val_accuracy: 0.7866\n",
            "Epoch 18/20\n",
            "40000/40000 [==============================] - 14s 350us/step - loss: 0.3010 - accuracy: 0.8942 - val_loss: 0.7598 - val_accuracy: 0.7788\n",
            "Epoch 19/20\n",
            "40000/40000 [==============================] - 14s 353us/step - loss: 0.2912 - accuracy: 0.8967 - val_loss: 0.6942 - val_accuracy: 0.7962\n",
            "Epoch 20/20\n",
            "40000/40000 [==============================] - 14s 354us/step - loss: 0.2793 - accuracy: 0.9008 - val_loss: 0.7323 - val_accuracy: 0.7937\n"
          ],
          "name": "stdout"
        }
      ]
    },
    {
      "cell_type": "code",
      "metadata": {
        "id": "E_UzPTEBRNda",
        "colab_type": "code",
        "colab": {
          "base_uri": "https://localhost:8080/",
          "height": 295
        },
        "outputId": "a37d0fe0-d0e8-4257-a0b6-4fa65dff4f6c"
      },
      "source": [
        "plt.plot(hist.history['loss'])\n",
        "plt.plot(hist.history['val_loss'])\n",
        "plt.title('Model loss')\n",
        "plt.ylabel('Loss')\n",
        "plt.xlabel('Epoch')\n",
        "plt.legend(['Train', 'Val'], loc='upper right')\n",
        "plt.show()"
      ],
      "execution_count": 25,
      "outputs": [
        {
          "output_type": "display_data",
          "data": {
            "image/png": "[encoded data removed]",
            "text/plain": [
              "<Figure size 432x288 with 1 Axes>"
            ]
          },
          "metadata": {
            "tags": [],
            "needs_background": "light"
          }
        }
      ]
    },
    {
      "cell_type": "code",
      "metadata": {
        "id": "OO31eLWlpaxk",
        "colab_type": "code",
        "colab": {}
      },
      "source": [
        ""
      ],
      "execution_count": 0,
      "outputs": []
    },
    {
      "cell_type": "code",
      "metadata": {
        "colab_type": "code",
        "outputId": "eed91b97-a6fc-4d20-a189-cb94e864ede3",
        "id": "Y3XzTCD_rkfU",
        "colab": {
          "base_uri": "https://localhost:8080/",
          "height": 686
        }
      },
      "source": [
        "model = Sequential()\n",
        "model.add(Conv2D(32, (3, 3), activation='relu', padding='same', input_shape=(32,32,3)))\n",
        "model.add(Conv2D(32, (3, 3), activation='relu', padding='same'))\n",
        "model.add(MaxPooling2D(pool_size=(2, 2)))\n",
        "model.add(Dropout(0.25))\n",
        "model.add(Conv2D(64, (3, 3), activation='relu', padding='same'))\n",
        "model.add(Conv2D(64, (3, 3), activation='relu', padding='same'))\n",
        "model.add(MaxPooling2D(pool_size=(2, 2)))\n",
        "model.add(Dropout(0.25))\n",
        "model.add(Flatten())\n",
        "model.add(Dense(512, activation='relu'))\n",
        "model.add(Dropout(0.5))\n",
        "model.add(Dense(512, activation='relu'))\n",
        "model.add(Dense(512, activation='relu'))\n",
        "model.add(Dropout(0.5))\n",
        "model.add(Dense(10, activation='softmax'))\n",
        "\n",
        "model.summary()"
      ],
      "execution_count": 26,
      "outputs": [
        {
          "output_type": "stream",
          "text": [
            "Model: \"sequential_5\"\n",
            "_________________________________________________________________\n",
            "Layer (type)                 Output Shape              Param #   \n",
            "=================================================================\n",
            "conv2d_14 (Conv2D)           (None, 32, 32, 32)        896       \n",
            "_________________________________________________________________\n",
            "conv2d_15 (Conv2D)           (None, 32, 32, 32)        9248      \n",
            "_________________________________________________________________\n",
            "max_pooling2d_8 (MaxPooling2 (None, 16, 16, 32)        0         \n",
            "_________________________________________________________________\n",
            "dropout_10 (Dropout)         (None, 16, 16, 32)        0         \n",
            "_________________________________________________________________\n",
            "conv2d_16 (Conv2D)           (None, 16, 16, 64)        18496     \n",
            "_________________________________________________________________\n",
            "conv2d_17 (Conv2D)           (None, 16, 16, 64)        36928     \n",
            "_________________________________________________________________\n",
            "max_pooling2d_9 (MaxPooling2 (None, 8, 8, 64)          0         \n",
            "_________________________________________________________________\n",
            "dropout_11 (Dropout)         (None, 8, 8, 64)          0         \n",
            "_________________________________________________________________\n",
            "flatten_4 (Flatten)          (None, 4096)              0         \n",
            "_________________________________________________________________\n",
            "dense_7 (Dense)              (None, 512)               2097664   \n",
            "_________________________________________________________________\n",
            "dropout_12 (Dropout)         (None, 512)               0         \n",
            "_________________________________________________________________\n",
            "dense_8 (Dense)              (None, 512)               262656    \n",
            "_________________________________________________________________\n",
            "dense_9 (Dense)              (None, 512)               262656    \n",
            "_________________________________________________________________\n",
            "dropout_13 (Dropout)         (None, 512)               0         \n",
            "_________________________________________________________________\n",
            "dense_10 (Dense)             (None, 10)                5130      \n",
            "=================================================================\n",
            "Total params: 2,693,674\n",
            "Trainable params: 2,693,674\n",
            "Non-trainable params: 0\n",
            "_________________________________________________________________\n"
          ],
          "name": "stdout"
        }
      ]
    },
    {
      "cell_type": "code",
      "metadata": {
        "id": "OdoAHjvfrrkO",
        "colab_type": "code",
        "colab": {
          "base_uri": "https://localhost:8080/",
          "height": 1000
        },
        "outputId": "7fc6b1a4-3e9b-4844-b4b2-0b47fbfdc2b8"
      },
      "source": [
        "\n",
        "# Compile the model\n",
        "model.compile(loss=\"categorical_crossentropy\", optimizer=\"Nadam\", metrics=[\"accuracy\"])\n",
        "\n",
        "# Summary of model\n",
        "model.summary()\n",
        "\n",
        "model.compile(loss='categorical_crossentropy',optimizer='adam',metrics=['accuracy'])\n",
        "hist = model.fit(xtrain, ytrain,batch_size=32, epochs=20,validation_split=0.2)\n"
      ],
      "execution_count": 27,
      "outputs": [
        {
          "output_type": "stream",
          "text": [
            "Model: \"sequential_5\"\n",
            "_________________________________________________________________\n",
            "Layer (type)                 Output Shape              Param #   \n",
            "=================================================================\n",
            "conv2d_14 (Conv2D)           (None, 32, 32, 32)        896       \n",
            "_________________________________________________________________\n",
            "conv2d_15 (Conv2D)           (None, 32, 32, 32)        9248      \n",
            "_________________________________________________________________\n",
            "max_pooling2d_8 (MaxPooling2 (None, 16, 16, 32)        0         \n",
            "_________________________________________________________________\n",
            "dropout_10 (Dropout)         (None, 16, 16, 32)        0         \n",
            "_________________________________________________________________\n",
            "conv2d_16 (Conv2D)           (None, 16, 16, 64)        18496     \n",
            "_________________________________________________________________\n",
            "conv2d_17 (Conv2D)           (None, 16, 16, 64)        36928     \n",
            "_________________________________________________________________\n",
            "max_pooling2d_9 (MaxPooling2 (None, 8, 8, 64)          0         \n",
            "_________________________________________________________________\n",
            "dropout_11 (Dropout)         (None, 8, 8, 64)          0         \n",
            "_________________________________________________________________\n",
            "flatten_4 (Flatten)          (None, 4096)              0         \n",
            "_________________________________________________________________\n",
            "dense_7 (Dense)              (None, 512)               2097664   \n",
            "_________________________________________________________________\n",
            "dropout_12 (Dropout)         (None, 512)               0         \n",
            "_________________________________________________________________\n",
            "dense_8 (Dense)              (None, 512)               262656    \n",
            "_________________________________________________________________\n",
            "dense_9 (Dense)              (None, 512)               262656    \n",
            "_________________________________________________________________\n",
            "dropout_13 (Dropout)         (None, 512)               0         \n",
            "_________________________________________________________________\n",
            "dense_10 (Dense)             (None, 10)                5130      \n",
            "=================================================================\n",
            "Total params: 2,693,674\n",
            "Trainable params: 2,693,674\n",
            "Non-trainable params: 0\n",
            "_________________________________________________________________\n",
            "Train on 40000 samples, validate on 10000 samples\n",
            "Epoch 1/20\n",
            "40000/40000 [==============================] - 10s 242us/step - loss: 1.7740 - accuracy: 0.3363 - val_loss: 1.3819 - val_accuracy: 0.4964\n",
            "Epoch 2/20\n",
            "40000/40000 [==============================] - 9s 230us/step - loss: 1.3641 - accuracy: 0.5080 - val_loss: 1.1593 - val_accuracy: 0.5834\n",
            "Epoch 3/20\n",
            "40000/40000 [==============================] - 9s 230us/step - loss: 1.2063 - accuracy: 0.5694 - val_loss: 1.0720 - val_accuracy: 0.6228\n",
            "Epoch 4/20\n",
            "40000/40000 [==============================] - 9s 231us/step - loss: 1.1080 - accuracy: 0.6101 - val_loss: 0.9392 - val_accuracy: 0.6615\n",
            "Epoch 5/20\n",
            "40000/40000 [==============================] - 9s 233us/step - loss: 1.0236 - accuracy: 0.6413 - val_loss: 0.9015 - val_accuracy: 0.6821\n",
            "Epoch 6/20\n",
            "40000/40000 [==============================] - 9s 233us/step - loss: 0.9559 - accuracy: 0.6684 - val_loss: 0.8570 - val_accuracy: 0.7050\n",
            "Epoch 7/20\n",
            "40000/40000 [==============================] - 10s 239us/step - loss: 0.9056 - accuracy: 0.6829 - val_loss: 0.8171 - val_accuracy: 0.7095\n",
            "Epoch 8/20\n",
            "40000/40000 [==============================] - 10s 238us/step - loss: 0.8792 - accuracy: 0.6967 - val_loss: 0.8069 - val_accuracy: 0.7220\n",
            "Epoch 9/20\n",
            "40000/40000 [==============================] - 9s 234us/step - loss: 0.8434 - accuracy: 0.7079 - val_loss: 0.7537 - val_accuracy: 0.7362\n",
            "Epoch 10/20\n",
            "40000/40000 [==============================] - 9s 233us/step - loss: 0.8192 - accuracy: 0.7169 - val_loss: 0.7502 - val_accuracy: 0.7360\n",
            "Epoch 11/20\n",
            "40000/40000 [==============================] - 9s 234us/step - loss: 0.7967 - accuracy: 0.7247 - val_loss: 0.7823 - val_accuracy: 0.7312\n",
            "Epoch 12/20\n",
            "40000/40000 [==============================] - 9s 233us/step - loss: 0.7716 - accuracy: 0.7313 - val_loss: 0.7469 - val_accuracy: 0.7439\n",
            "Epoch 13/20\n",
            "40000/40000 [==============================] - 9s 233us/step - loss: 0.7559 - accuracy: 0.7379 - val_loss: 0.7309 - val_accuracy: 0.7477\n",
            "Epoch 14/20\n",
            "40000/40000 [==============================] - 9s 233us/step - loss: 0.7444 - accuracy: 0.7429 - val_loss: 0.7714 - val_accuracy: 0.7364\n",
            "Epoch 15/20\n",
            "40000/40000 [==============================] - 9s 237us/step - loss: 0.7241 - accuracy: 0.7515 - val_loss: 0.7421 - val_accuracy: 0.7502\n",
            "Epoch 16/20\n",
            "40000/40000 [==============================] - 10s 238us/step - loss: 0.7112 - accuracy: 0.7564 - val_loss: 0.7173 - val_accuracy: 0.7527\n",
            "Epoch 17/20\n",
            "40000/40000 [==============================] - 9s 236us/step - loss: 0.6945 - accuracy: 0.7608 - val_loss: 0.7214 - val_accuracy: 0.7506\n",
            "Epoch 18/20\n",
            "40000/40000 [==============================] - 9s 233us/step - loss: 0.6875 - accuracy: 0.7636 - val_loss: 0.7025 - val_accuracy: 0.7564\n",
            "Epoch 19/20\n",
            "40000/40000 [==============================] - 9s 234us/step - loss: 0.6608 - accuracy: 0.7739 - val_loss: 0.7382 - val_accuracy: 0.7503\n",
            "Epoch 20/20\n",
            "40000/40000 [==============================] - 9s 234us/step - loss: 0.6698 - accuracy: 0.7719 - val_loss: 0.7111 - val_accuracy: 0.7526\n"
          ],
          "name": "stdout"
        }
      ]
    },
    {
      "cell_type": "code",
      "metadata": {
        "id": "PjuGupqWrx3M",
        "colab_type": "code",
        "colab": {}
      },
      "source": [
        ""
      ],
      "execution_count": 0,
      "outputs": []
    }
  ]
}